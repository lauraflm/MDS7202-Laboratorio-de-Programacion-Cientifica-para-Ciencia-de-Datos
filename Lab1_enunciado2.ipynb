{
  "cells": [
    {
      "attachments": {},
      "cell_type": "markdown",
      "metadata": {
        "cell_id": "097fce6dce21405c911254a775ae3d26",
        "deepnote_cell_type": "markdown",
        "id": "J4_IcuuKZj9Y"
      },
      "source": [
        "<h1><center>Laboratorio 1: Git 👾</center></h1>\n",
        "\n",
        "<center><strong>MDS7202: Laboratorio de Programación Científica para Ciencia de Datos - Primavera 2025</strong></center>"
      ]
    },
    {
      "attachments": {},
      "cell_type": "markdown",
      "metadata": {
        "cell_id": "9e8e8f2ae34e461da4f44508a96d2cf4",
        "deepnote_cell_type": "markdown",
        "id": "AEXIACc7aADv"
      },
      "source": [
        "### Cuerpo Docente:\n",
        "\n",
        "- Profesores: Diego Cortez, Gabriel Iturra\n",
        "- Auxiliares: Melanie Peña, Valentina Rojas\n",
        "- Ayudantes: Nicolás Cabello, Cristopher Urbina"
      ]
    },
    {
      "attachments": {},
      "cell_type": "markdown",
      "metadata": {
        "cell_id": "3e5b48c23e1b48f6a64de41899166179",
        "deepnote_cell_type": "markdown",
        "id": "0HgMMyoCaG8X"
      },
      "source": [
        "### Equipo: poplolitas **SUPER IMPORTANTE - notebooks sin nombre no serán revisados**\n",
        "\n",
        "- Nombre de alumno 1: Laura Maldonado\n",
        "- Nombre de alumno 2: Javiera Arévalo"
      ]
    },
    {
      "cell_type": "code",
      "execution_count": null,
      "metadata": {
        "vscode": {
          "languageId": "plaintext"
        }
      },
      "outputs": [],
      "source": []
    },
    {
      "attachments": {},
      "cell_type": "markdown",
      "metadata": {
        "cell_id": "1db7c82b68614d19b112ba3b0d0abe4d",
        "deepnote_cell_type": "markdown",
        "id": "fz77X6glaK6y"
      },
      "source": [
        "### **Link de repositorio de GitHub:** [Insertar Enlace](https://)"
      ]
    },
    {
      "attachments": {},
      "cell_type": "markdown",
      "metadata": {
        "cell_id": "bc3dac65089d4ae6a43c079547dee179",
        "deepnote_cell_type": "markdown",
        "id": "rRwqaxIZaNx3"
      },
      "source": [
        "## Reglas:\n",
        "\n",
        "- **Grupos de 2 personas**\n",
        "- Fecha de entrega: Entregas Martes a las 23:59.\n",
        "- Instrucciones del lab el viernes a las 16:15 en formato online. Asistencia no es obligatoria, pero se recomienda **fuertemente** asistir.\n",
        "- <u>Prohibidas las copias</u>. Cualquier intento de copia será debidamente penalizado con el reglamento de la escuela.\n",
        "- Tienen que subir el laboratorio a u-cursos y a su repositorio de github. Labs que no estén en u-cursos no serán revisados. Recuerden que el repositorio también tiene nota.\n",
        "- Cualquier duda fuera del horario de clases al foro. Mensajes al equipo docente serán respondidos por este medio.\n",
        "- Pueden usar cualquier material del curso que estimen conveniente."
      ]
    },
    {
      "attachments": {},
      "cell_type": "markdown",
      "metadata": {
        "cell_id": "05e4729411a24153837fd13b7f198bd9",
        "deepnote_cell_type": "markdown",
        "id": "bmToL27JaSrf"
      },
      "source": [
        "## Objetivos del lab:\n",
        "\n",
        "\n",
        "- Conocer los elementos básicos que conformar `Git`\n",
        "- Clonar repositorios\n",
        "- Identificar ramas de un repositorio\n",
        "- Reconocer y solucionar problemas entre ramas\n",
        "- Subir cambios a un repositorio"
      ]
    },
    {
      "attachments": {},
      "cell_type": "markdown",
      "metadata": {
        "cell_id": "5ebae9d601bd4d508349ab55297e9f82",
        "deepnote_cell_type": "markdown",
        "id": "bvnPCvrVbJLK"
      },
      "source": [
        "## Parte 1: Conocimiento Teórico (2.5 pts)\n",
        "\n",
        "<p align=\"center\">\n",
        "  <img src=\"https://cdn.thedesigninspiration.com/wp-content/uploads/sites/3/2019/04/macintosh-hdusersbrittanyloefflerdownloadsanig-1.gif\" width=\"350\">\n",
        "</p>"
      ]
    },
    {
      "attachments": {},
      "cell_type": "markdown",
      "metadata": {
        "cell_id": "627494dba4f84520b3ee8b9cbf58ee79",
        "deepnote_cell_type": "markdown",
        "id": "JHl-24XnbNLF"
      },
      "source": [
        "Responda las siguientes preguntas (0.2 pts c/u):\n",
        "\n",
        "1. ¿Qué es `Git` y cómo se relaciona con el control de versiones?\n",
        "\n",
        "2. Nombre y explique 3 diferencias entre `Git` y `Github`.\n",
        "\n",
        "3. ¿Qué es un `hash` y cómo se representa en un `commit`? De un ejemplo.\n",
        "\n",
        "4. ¿Que elementos componen a la estructura de datos de `Git`?\n",
        "\n",
        "5. ¿Que comandos de `Git` sirven para crear un repositorio y hacer seguimiento a cambios en los archivos?"
      ]
    },
    {
      "attachments": {},
      "cell_type": "markdown",
      "metadata": {
        "cell_id": "6d06c40f429044a298b27c666f51f46f",
        "deepnote_cell_type": "markdown",
        "id": "2tXCSkf0caG8"
      },
      "source": [
        "Escriba sus respuestas acá:\n",
        "\n",
        "1. Git es un sistema de control de versiones distribuido que se denota como DVCS. Esto significa que Git administra los registros de los archivos y carpetas que se van modificando en distintos modelos, esto lo hace a través de una carpeta oculta .git. Tener este formato permite que se pueda manejar distintas versiones y que se pueda colaborar teniendo un historial al que que se puede acceder cuando sea necesario. \n",
        "\n",
        "2. En primer lugar, Git es un software que se instala en el computador. En segundo lugar, esta es una herramienta que se usa por línea de comandos. Finalmente, este tiene un repositorio local con el historial de cambios.\n",
        "Por otro lado, Github es un servicio que se basa en la web, por lo que tiene una plataforma. Este además tiene tiene una interfaz gráfica que permite ver y gestionar repositorios. Finalmente, añade otras funcionalidades a git, como subir y compartir repositorios Git con otras personas.\n",
        "\n",
        "3. Un hash es un elemento que permite referenciar un elemento, por esto es un identificador único que se realiza cuando se hace un commit en Git. En Git se encuentra basado en el algoritmo SHA1. Tiene 40 caracteres y sirve para identificar a un commit, blob o árbol.\n",
        "\n",
        "Ejemplo: 80655da9T3pR7Lq2Xv8mN6k1Zb4wD5yJ0hCfGuE\n",
        "\n",
        "Como se vió en clases, el hash depende del tipo que sea, si es un blob empieza con 0fd0bc, si es un árbol empieza con 80655d y si es commit empieza con 4015b5. \n",
        "\n",
        "4. Los elementos que componen la estructura de datos en Git son Blob que guarda el contenido de los archivos, también se encuentran los árboles que representa directorios que contienen blobs y otros árboles, y los commit son los que capturan el estado de los archivos en un momento dado. Y por otro lado, están los hash, que identifica de forma única a cada blob, árbol o commit.\n",
        "\n",
        "5. Una vez se este localizado en donde se quiere crear el repositorio, los comandos para crearlo serían los siguientes:\n",
        "- git init, para crear un repositorio.\n",
        "- git add (archivo, carpeta, todos los cambios), que hace que los archivos/carpeta/todos los cambios que se hayan modificado pasen a staging area.\n",
        "- git status que da a conocer el estado del repositorio.\n",
        "- git commit -m \"mensaje\", que guarda los cambios en el historial con un mensaje."
      ]
    },
    {
      "attachments": {},
      "cell_type": "markdown",
      "metadata": {
        "cell_id": "ec9855406e324cc98b59e33500faea84",
        "deepnote_cell_type": "markdown",
        "id": "MACccbP4gU43"
      },
      "source": [
        "Responda si las siguientes afirmaciones son Verdaderas (V) o Falsas (F). Justifique en **cualquiera** de los casos (0.2 pts c/u):\n",
        "\n",
        "\n",
        "6. `Git` siempre resuelve automáticamente los problemas de lineas al hacer merge entre diferentes ramas.\n",
        "7. Ejecutar `git pull` sobre un repositorio es equivalente a ejecutar `git clone`.\n",
        "8. `git status` genera los mismos resultados que `git log`.\n",
        "9. En `Git` es posible deshacer cambios y volver a versiones anteriores del código.\n",
        "10. El comando `git commit` se utiliza para enviar cambios al repositorio remoto."
      ]
    },
    {
      "attachments": {},
      "cell_type": "markdown",
      "metadata": {
        "cell_id": "7e6a5a6e15b045cc9d104cf017825f1a",
        "deepnote_cell_type": "markdown",
        "id": "DFnmCToOgeM3"
      },
      "source": [
        "<code>Escriba sus respuestas acá:</code>\n",
        "\n",
        "6. Falso.\n",
        "Git puede identificar conflictos cuando existan dos personas trabajando en lo mismo en distintas ramas. Sin embargo, estos casos no se resuelve automáticamente, generalmente la persona que se encuentre trabajando debe resolverlos de forma manual.\n",
        "\n",
        "7. Falso.\n",
        "`git clone` se usa una sola vez al inicio para copiar un repositorio completo en el computador de forma remota.\n",
        "`git pull` se usa dentro de un repositorio ya clonado para traer los últimos cambios del remoto y mezclarlos con tu copia local.\n",
        "\n",
        "8. Falso.\n",
        "`git status` muestra el estado actual (archivos modificados, en staging o no).\n",
        "`git log`  muestra el **historial de commits** (autor, fecha, hash y mensaje).\n",
        "\n",
        "9. Verdadero.\n",
        "Git permite usar comandos como `git checkout <hash>` o `git reset` para volver a commits previos y deshacer cambios.\n",
        "\n",
        "10. Falso.\n",
        "`git commit` guarda los cambios en el repositorio local.\n",
        "Para enviar al remoto se usa `git push`.\n"
      ]
    },
    {
      "attachments": {},
      "cell_type": "markdown",
      "metadata": {
        "cell_id": "54317cad024744ebaf4938df55ba3b95",
        "deepnote_cell_type": "markdown",
        "id": "LYq55sI2Rjf0"
      },
      "source": [
        "Por último, investigue y comente con sus palabras para qué sirven los siguientes comandos:\n",
        "\n",
        "11. `git stash` (0.25 puntos)\n",
        "\n",
        "Este sirve para guardar cambios temporales sin hacer el commit. Con esto se puede dejar la carpeta como estaba con el último commit para cambiar de rama o hacer otra cosa sin perder lo que estabas editando.\n",
        "\n",
        "12. `git reset`. ¿Cuál es la diferencia de este comando con `git revert`?. (0.25 puntos)\n",
        "\n",
        "En primer lugar, el `git reset` sirve para sacar archivos del staging area o volver al repositorio a un commit anterior. Por otro lado, el `git revert` lo que provoca es deshacer los cambios de un commit anterior. \n",
        "La diferencia entre los dos entre los dos nombrados, es que el segundo en lugar de borrar commits, crea un nuevo commit que revierte los cambios de uno anterior.\n"
      ]
    },
    {
      "attachments": {},
      "cell_type": "markdown",
      "metadata": {
        "cell_id": "3e4d8b9974e4426ca38fd20f4b835a55",
        "deepnote_cell_type": "markdown",
        "id": "i7Em9JkbbRLo"
      },
      "source": [
        "## Parte 2: Creando una presentación personal (1.5 pts)\n",
        "\n",
        "<p align=\"center\">\n",
        "  <img src=\"https://media.tenor.com/arqlNu8gyJYAAAAC/cat-cat-jumping.gif\" width=\"150\">\n",
        "</p>\n",
        "\n"
      ]
    },
    {
      "attachments": {},
      "cell_type": "markdown",
      "metadata": {
        "cell_id": "988648005dba4b9782c6625dfe6ae4ef",
        "deepnote_cell_type": "markdown",
        "id": "XWIHfyrlbYOJ"
      },
      "source": [
        "Para empezar a \"*soltar las manos*\" con `Git`, se les encomienda crear un repositorio con una presentación personal. El repositorio debe contener un breve resumen de quienes son ustedes, sus gustos, experiencias, y cualquier otro detalle interesante que ustedes consideren relevante.\n",
        "\n",
        "Para realizar esto, deben seguir los siguientes pasos:\n",
        "\n",
        "1. Contar con una cuenta de github (1 por persona)\n",
        "2. Crear un repositorio con su nombre de usuario\n",
        "3. Vincular el repositorio a su ambiente local ¿Qué comando(s) me permiten hacer esto?\n",
        "4. Crear un archivo `readme.md` con la información que ustedes deseen compartir.\n",
        "5. Realizar `push` con los cambios generados\n",
        "\n",
        "\n",
        "**Nota: Deben trabajar todos estos puntos desde su ambiente local**\n",
        "\n",
        "*Hint: Una buena opción es usar templates de presentación personal que encuentren en Google, como los que ofrece este [sitio](https://durgeshsamariya.github.io/awesome-github-profile-readme-templates/#/)*.\n",
        "\n",
        "**Entregable:**\n",
        "\n",
        "Enlace al repositorio con la presentación personal.\n",
        "\n",
        "IMPORTANTE: DEBEN ADJUNTAR UN ENLACE POR PERSONA"
      ]
    },
    {
      "attachments": {},
      "cell_type": "markdown",
      "metadata": {
        "cell_id": "081b38d55dc54282bc8e3cd300ce9d3e",
        "deepnote_cell_type": "markdown",
        "id": "IIkWyl9tf0Sg"
      },
      "source": [
        "<code>Link Presentacion 1:</code> https://github.com/lauraflm/lauraflm\n",
        "\n",
        "<code>Link Presentacion 2:</code> https://github.com/jarevalodd/jarevalodd"
      ]
    },
    {
      "attachments": {},
      "cell_type": "markdown",
      "metadata": {},
      "source": []
    },
    {
      "attachments": {},
      "cell_type": "markdown",
      "metadata": {
        "cell_id": "0481a05d2d1a46928f6cfb7762720980",
        "deepnote_cell_type": "markdown",
        "id": "CAzXOwvDY-IG"
      },
      "source": [
        "## Parte 3: Trabajando sobre un repositorio externo (2 pts)\n",
        "\n",
        "<p align=\"center\">\n",
        "  <img src=\"https://media.tenor.com/YXL-0SK15j4AAAAC/dance-animals.gif\" width=\"300\">\n",
        "</p>\n",
        "\n",
        "Tras muchos dolores de cabeza, un grupo de entusiastas académicos decidieron aprender sobre `Git` y así trabajar colaborativamente de forma más ordenada y eficiente. Después de una infinidad de intentos y aprender de sus errores \"*a la mala*\", los académicos lograron levantar un [repositorio](https://github.com/MDS7202/lab1) en `Github`. Usando el repositorio de los académicos, responda las siguientes preguntas (**incluya también los comandos en `Git` ocupados**):\n"
      ]
    },
    {
      "attachments": {},
      "cell_type": "markdown",
      "metadata": {},
      "source": []
    },
    {
      "attachments": {},
      "cell_type": "markdown",
      "metadata": {
        "cell_id": "bcef73b2e8604579bde90ed6622abfe9",
        "deepnote_cell_type": "markdown",
        "id": "BFRnAw0rfguR"
      },
      "source": [
        "1. Clone el repositorio a su ambiente local. (0.25 pts)"
      ]
    },
    {
      "attachments": {},
      "cell_type": "markdown",
      "metadata": {
        "cell_id": "5d126ac3819c44479af94d3895bc4c97",
        "deepnote_cell_type": "markdown",
        "id": "KXro32yBeilN"
      },
      "source": [
        "<code>Escriba sus respuestas acá:</code>\n",
        "\n",
        "cd ~/Desktop/LaboratorioProgramación\n",
        "git clone https://github.com/MDS7202/lab1.git\n",
        "cd lab1"
      ]
    },
    {
      "attachments": {},
      "cell_type": "markdown",
      "metadata": {
        "cell_id": "e215e4e25b2440f09ac273ba63603986",
        "deepnote_cell_type": "markdown",
        "id": "8QB-GKmQRjf1"
      },
      "source": [
        "2. Descomprima los archivos subidos con la tarea en U-cursos en la carpeta recién clonada de github. Una vez realizado esto, cree un archivo `.gitignore` con el cual omita la carpeta `videos` y los archivos con la extensión `.txt` exceptuando el archivo `171.txt` de la carpeta `texts`. (0.25 pts)"
      ]
    },
    {
      "attachments": {},
      "cell_type": "markdown",
      "metadata": {},
      "source": [
        "Contenido del .gitignore\n",
        "```\n",
        "# Ignorar carpeta videos\n",
        "videos/\n",
        "\n",
        "# Ignorar todos los archivos .txt\n",
        "*.txt\n",
        "\n",
        "# Pero NO ignorar texts/171.txt\n",
        "!texts/171.txt\n",
        "```"
      ]
    },
    {
      "attachments": {},
      "cell_type": "markdown",
      "metadata": {
        "cell_id": "186233b44d004e3bbd86262d010188b5",
        "deepnote_cell_type": "markdown",
        "id": "7VJ8IIYpRjf1"
      },
      "source": [
        "<code>Para esta pregunta usted deberá adjuntar el .gitignore creado en su repo.</code>\n"
      ]
    },
    {
      "attachments": {},
      "cell_type": "markdown",
      "metadata": {
        "cell_id": "1de150590a41484a988b8e46616a2324",
        "deepnote_cell_type": "markdown",
        "id": "q2qmiDyjt2M_"
      },
      "source": [
        "3. Inspeccione brevemente el repositorio: ¿Cual es el objetivo del proyecto? Explique brevemente la estructura del proyecto, asi como también cada elemento que lo conforma. (0.25 pts)"
      ]
    },
    {
      "cell_type": "code",
      "execution_count": null,
      "metadata": {
        "vscode": {
          "languageId": "plaintext"
        }
      },
      "outputs": [],
      "source": []
    },
    {
      "attachments": {},
      "cell_type": "markdown",
      "metadata": {
        "cell_id": "082ca01c865e48e28352b280400c47b6",
        "deepnote_cell_type": "markdown",
        "id": "aBHpR8VTftkT"
      },
      "source": [
        "<code>Escriba sus respuestas acá:</code>\n",
        "El objetivo del proyecto es emular los sonidos de animales a través de un programa en Python. El usuario ingresa el nombre de un animal y el código imprime el sonido correspondiente (o un mensaje de error si el animal no está reconocido).\n",
        "\n",
        "La estructura se encuentra compuesta por tres partes. En primer lugar, está en main.py que como dice su nombre es el archivo principal y contiene la función a la que el usuario le debe entregar un animal y entrega un animal por medio de la función animales que es definida en otra de las partes. En segundo lugar, está animales.py que define la función anteriormente mencionada, en donde se le pueden entregar tres tipos de input, uno es perro, otro gato y el último es fox, según lo que se ingrese dará un resultado. Finalmente, se encuentra el readme.md que indica lo que va a contener el repositorio, para explicar esto se dice que es un Proyecto para emular los sonidos de animales y contiene una foto de ciertos animales. "
      ]
    },
    {
      "attachments": {},
      "cell_type": "markdown",
      "metadata": {
        "cell_id": "3aab4a3ee0c246e1be955680ad653fb8",
        "deepnote_cell_type": "markdown",
        "id": "XFwqcpLZfylf"
      },
      "source": [
        "4. Identifique los últimos cambios al repositorio, reconociendo las principales ramas de trabajo. ¿Son informativos los `commit` realizados? (0.25 pts)\n",
        "*Hint: Se recomienda usar los argumentos `all`, `graph` y `decorate`*\n"
      ]
    },
    {
      "attachments": {},
      "cell_type": "markdown",
      "metadata": {
        "cell_id": "0fab79a360ac4c6a9ca0ab884f85c7e1",
        "deepnote_cell_type": "markdown",
        "id": "cmWfXBkOhog0"
      },
      "source": [
        "<code>Escriba sus respuestas acá:</code>\n",
        "\n",
        "\n",
        "**git log --graph**\n",
        "\n",
        "* commit 362fe21ee44f53ee944cee4ba484600308f83d78 (HEAD -> main, origin/new_features, origin/main, origin/HEAD)\n",
        "| Author: mezosky <ignacio.meza@ug.uchile.cl>\n",
        "| Date:   Thu Mar 23 21:47:34 2023 -0300\n",
        "| \n",
        "|     Se separa el proyecto en modulos\n",
        "| \n",
        "* commit c8b1a62d7299552b0654f930d695b33109214111\n",
        "| Author: seba <stinoco@fen.uchile.cl>\n",
        "| Date:   Wed Mar 22 17:28:19 2023 -0300\n",
        "| \n",
        "|     se agrega funcion\n",
        "| \n",
        "* commit b262d86411a6b017e99bf0731e33a6787739247c\n",
        "  Author: seba <stinoco@fen.uchile.cl>\n",
        "  Date:   Wed Mar 22 17:25:30 2023 -0300\n",
        "  \n",
        "      primer commit\n",
        "(base) jarevalod@MacBook-Air-de-Javi lab1 % \n",
        "\n",
        "\n",
        "**git log --all**\n",
        "\n",
        "commit 25543a3baf77292baf849726784ca005473acab1 (origin/fix-ifs)\n",
        "Author: Pablo Badilla <pbadilla.torrealba@gmail.com>\n",
        "Date:   Thu Mar 23 22:50:49 2023 -0300\n",
        "\n",
        "    fix ifs\n",
        "\n",
        "commit 362fe21ee44f53ee944cee4ba484600308f83d78 (HEAD -> main, origin/new_features, origin/main, origin/HEAD)\n",
        "Author: mezosky <ignacio.meza@ug.uchile.cl>\n",
        "Date:   Thu Mar 23 21:47:34 2023 -0300\n",
        "\n",
        "    Se separa el proyecto en modulos\n",
        "\n",
        "commit c8b1a62d7299552b0654f930d695b33109214111\n",
        "Author: seba <stinoco@fen.uchile.cl>\n",
        "Date:   Wed Mar 22 17:28:19 2023 -0300\n",
        "\n",
        "    se agrega funcion\n",
        "\n",
        "commit b262d86411a6b017e99bf0731e33a6787739247c\n",
        "Author: seba <stinoco@fen.uchile.cl>\n",
        "Date:   Wed Mar 22 17:25:30 2023 -0300\n",
        "\n",
        "**git log --decorate**\n",
        "\n",
        "commit 362fe21ee44f53ee944cee4ba484600308f83d78 (HEAD -> main, origin/new_features, origin/main, origin/HEAD)\n",
        "Author: mezosky <ignacio.meza@ug.uchile.cl>\n",
        "Date:   Thu Mar 23 21:47:34 2023 -0300\n",
        "\n",
        "    Se separa el proyecto en modulos\n",
        "\n",
        "commit c8b1a62d7299552b0654f930d695b33109214111\n",
        "Author: seba <stinoco@fen.uchile.cl>\n",
        "Date:   Wed Mar 22 17:28:19 2023 -0300\n",
        "\n",
        "    se agrega funcion\n",
        "\n",
        "commit b262d86411a6b017e99bf0731e33a6787739247c\n",
        "Author: seba <stinoco@fen.uchile.cl>\n",
        "Date:   Wed Mar 22 17:25:30 2023 -0300\n",
        "\n",
        "    primer commit\n",
        "\n",
        "\n",
        "\n",
        "Entonces, a través de lo anterior se puede visualizar que al inspeccionar el historial con `git log --all / --graph / --decorate`, se observa que el repositorio contiene tres ramas principales, las que son `main`, `new_features` y `fix-ifs`.  \n",
        "\n",
        "Los últimos cambios fueron:\n",
        "commit 25543a3 en la rama `fix-ifs` realizado por Pablo Badilla con el mensaje \"fix ifs”, donde se corrigen condiciones en el código.\n",
        "commit 362fe21 en la rama `main` (también reflejado en `new_features`) realizado por Ignacio Meza con el mensaje “Se separa el proyecto en modulos”, que reorganiza la estructura del proyecto.\n",
        "commits anteriores de Sebastián Tinoco: “se agrega funcion” y “primer commit”.  \n",
        "\n",
        "En cuanto a los mensajes de commit, son breves pero no tan informativos, ya que dice que se separó el proyecto en módulos, que se agregó una función o que se corrigieron los `if`, pero podrían ser más descriptivos para dejar más claro qué cambios específicos se hicieron.\n",
        "\n"
      ]
    },
    {
      "attachments": {},
      "cell_type": "markdown",
      "metadata": {
        "cell_id": "d07b24d21f2343fb9a7e6a5db74e98c3",
        "deepnote_cell_type": "markdown",
        "id": "Vqbj9HdXrUnN"
      },
      "source": [
        "5. Uno de los académicos se da cuenta que la rama principal de trabajo no se ejecuta correctamente para todos los argumentos. Señale y explique el error en el código e identifique a la persona que lo cometió usando `git blame` (0.25 pts)\n",
        "\n",
        "*Hint: Le puede ser útil esta [documentación](https://www.atlassian.com/es/git/tutorials/inspecting-a-repository/git-blame).*"
      ]
    },
    {
      "attachments": {},
      "cell_type": "markdown",
      "metadata": {
        "cell_id": "bc5b0f9c639643108f8e66687b721732",
        "deepnote_cell_type": "markdown",
        "id": "5ajhV2Iar3tV"
      },
      "source": [
        "<code>Escriba sus respuestas acá:</code>\n",
        "\n",
        "\n",
        "(base) jarevalod@MacBook-Air-de-Javi LaboratorioProgramación % /usr/local/bin/python3 /Users/jarevalod/Desktop/Laborat\n",
        "orioProgramación/lab1/main.py\n",
        "Ingrese el animalito para saber que dice:\n",
        "gato\n",
        "miau\n",
        "Traceback (most recent call last):\n",
        "  File \"/Users/jarevalod/Desktop/LaboratorioProgramación/lab1/main.py\", line 6, in <module>\n",
        "    animales(animal)\n",
        "    ~~~~~~~~^^^^^^^^\n",
        "  File \"/Users/jarevalod/Desktop/LaboratorioProgramación/lab1/animales.py\", line 14, in animales\n",
        "    raise ValueError('animal no reconocido :(')\n",
        "ValueError: animal no reconocido :(\n",
        "(base) jarevalod@MacBook-Air-de-Javi LaboratorioProgramación % \n",
        "\n",
        "\n",
        "362fe21e (mezosky 2023-03-23 21:47:34 -0300 13)     else:\n",
        "362fe21e (mezosky 2023-03-23 21:47:34 -0300 14)         raise ValueError('animal no reconocido :(')\n",
        "\n",
        "c8b1a62d main.py (seba 2023-03-22 17:28:19 -0300 13)     else:\n",
        "c8b1a62d main.py (seba 2023-03-22 17:28:19 -0300 14)         raise ValueError('animal no reconocido :(')\n",
        "\n",
        "Al correr el `main.py` e ingresar `gato`, se entrega `miau` y luego se lanza `ValueError`.  \n",
        "El problema está en `animales.py` se usan tres `if` separados y el `else` queda asociado solo al tercer `if` (`if input.lower() == 'fox'`).  \n",
        "Entonces, para `gato` se tiene que el `if 'gato'` → verdadero entonces entrega `miau`, si el `if 'perro'` entonces es falso y si el`if 'fox'` entonces es falso y entra al `else` de ese `if` entonces se genera `raise ValueError`.\n",
        "\n",
        "Esto ocurre en:\n",
        "```text\n",
        "animales.py: líneas 13–14\n",
        "else:\n",
        "    raise ValueError('animal no reconocido :(')\n",
        "\n",
        "Cabe mencionar que se hizo uso de dos formas de ⁠ git blame ⁠, la primera nos entrega los útimos cambios a nivel general, es decir, nos muestra quién hizo el último commit, pero en este caso nos interesa saber quién fue la persona que modificó el archivo de animales.py, ya que este presenta el problema. Por lo tanto, se decidió utilizar ⁠ git blame -C-C ⁠ para saber quien fue la última persona en modificar dicho archivo."
      ]
    },
    {
      "attachments": {},
      "cell_type": "markdown",
      "metadata": {
        "cell_id": "f3f4e78e6d9145ebbb120c0a2e4aade6",
        "deepnote_cell_type": "markdown",
        "id": "m8J3uE7MhqTA"
      },
      "source": [
        "6. Busque los siguientes `commit`:\n",
        "\n",
        "- `c8b1a62d7299552b0654f930d695b33109214111`\n",
        "- `362fe21ee44f53ee944cee4ba484600308f83d78`\n",
        "- `25543a3baf77292baf849726784ca005473acab1`\n",
        "\n",
        "¿Qué diferencias existen entre cada uno? (0.25 pts)"
      ]
    },
    {
      "attachments": {},
      "cell_type": "markdown",
      "metadata": {
        "cell_id": "696ed361ac0c41c8a214cfad9dcb39e6",
        "deepnote_cell_type": "markdown",
        "id": "sNHnZsgIitGh"
      },
      "source": [
        "<code>Escriba sus respuestas acá:</code>\n",
        "COMMIT 1\n",
        "(base) jarevalod@MacBook-Air-de-Javi lab1 % git show c8b1a62d7299552b0654f930d695b33109214111\n",
        "commit c8b1a62d7299552b0654f930d695b33109214111\n",
        "Author: seba <stinoco@fen.uchile.cl>\n",
        "Date:   Wed Mar 22 17:28:19 2023 -0300\n",
        "\n",
        "    se agrega funcion animales dentro del main.py \n",
        "\n",
        "diff --git a/main.py b/main.py\n",
        "index 994e699..a4484fb 100644\n",
        "--- a/main.py\n",
        "+++ b/main.py\n",
        "@@ -1,4 +1,19 @@\n",
        "+def animales(input):\n",
        "+    \n",
        "+    '''\n",
        "+    Como hace el animalito?\n",
        "+    '''\n",
        "+    \n",
        "+    if input.lower() == 'gato':\n",
        "+        print('miau')\n",
        "+    if input.lower() == 'perro':\n",
        "+        print('guau')\n",
        "+    if input.lower() == 'fox':\n",
        "+        print('https://www.youtube.com/watch?v=jofNR_WkoCE')\n",
        "\n",
        "Este lo que hace \n",
        "\n",
        "COMMIT 2\n",
        "\n",
        "Este commit lo que hace es pasar la función animales a animales.py\n",
        "\n",
        "\n",
        "(base) jarevalod@MacBook-Air-de-Javi lab1 % git show 362fe21ee44f53ee944cee4ba484600308f83d78\n",
        "commit 362fe21ee44f53ee944cee4ba484600308f83d78 (HEAD -> main, origin/new_features, origin/main, origin/HEAD)\n",
        "Author: mezosky <ignacio.meza@ug.uchile.cl>\n",
        "Date:   Thu Mar 23 21:47:34 2023 -0300\n",
        "\n",
        "    Se separa el proyecto en modulos\n",
        "\n",
        "diff --git a/animales.py b/animales.py\n",
        "new file mode 100644\n",
        "index 0000000..694e39c\n",
        "--- /dev/null\n",
        "+++ b/animales.py\n",
        "@@ -0,0 +1,14 @@\n",
        "+def animales(input):\n",
        "+    \n",
        "+    '''\n",
        "+    Como hace el animalito?\n",
        "+    '''\n",
        "+    \n",
        "+    if input.lower() == 'gato':\n",
        "+        print('miau')\n",
        "+    if input.lower() == 'perro':\n",
        "+        print('guau')\n",
        "+    if input.lower() == 'fox':\n",
        "\n",
        "COMMIT 3\n",
        "\n",
        "Finalmente, este commit lo que hace es arreglar los ifs, es decir corrigue el segundo y tercer if por elif y deja un else al final para cuando no se reconoce el caso.\n",
        "\n",
        "(base) jarevalod@MacBook-Air-de-Javi lab1 % git show 25543a3baf77292baf849726784ca005473acab1\n",
        "commit 25543a3baf77292baf849726784ca005473acab1 (origin/fix-ifs)\n",
        "Author: Pablo Badilla <pbadilla.torrealba@gmail.com>\n",
        "Date:   Thu Mar 23 22:50:49 2023 -0300\n",
        "\n",
        "    fix ifs\n",
        "\n",
        "diff --git a/main.py b/main.py\n",
        "index a4484fb..345a51f 100644\n",
        "--- a/main.py\n",
        "+++ b/main.py\n",
        "@@ -6,9 +6,9 @@ def animales(input):\n",
        "     \n",
        "     if input.lower() == 'gato':\n",
        "         print('miau')\n",
        "-    if input.lower() == 'perro':\n",
        "+    elif input.lower() == 'perro':\n",
        "         print('guau')\n",
        "-    if input.lower() == 'fox':\n",
        "+    elif input.lower() == 'fox':\n",
        "         print('https://www.youtube.com/watch?v=jofNR_WkoCE')\n",
        "     else:\n",
        "         raise ValueError('animal no reconocido :(')\n",
        "\n",
        "\n",
        "La diferencia entre los tres es que el primero se enfoca en agregar una función, el segundo separa el proyecto en distintos archivos o módulos y finalmente, el último commit se centra en solucionar el error que existe en los ifs para que la función se comporte de manera correcta."
      ]
    },
    {
      "attachments": {},
      "cell_type": "markdown",
      "metadata": {
        "cell_id": "b4e18f8ce94c430f85915c4e2732d05b",
        "deepnote_cell_type": "markdown",
        "id": "WQIPbfNCgpxC"
      },
      "source": [
        "7. Realice una `merge` de la rama `fix-ifs` con la rama `main` y describa lo que ocurre. ¿Qué parte del código podría estar ocasionando esto? (0.25 pts)"
      ]
    },
    {
      "attachments": {},
      "cell_type": "markdown",
      "metadata": {
        "cell_id": "36da6a0d4f4a427bbccac09e2ae965fd",
        "deepnote_cell_type": "markdown",
        "id": "ypH_6lL5ioZz"
      },
      "source": [
        "<code>Escriba sus respuestas acá:</code>\n",
        "\n",
        "(base) jarevalod@MacBook-Air-de-Javi lab1 % git merge origin/fix-ifs\n",
        "Auto-merging main.py\n",
        "CONFLICT (content): Merge conflict in main.py\n",
        "Automatic merge failed; fix conflicts and then commit the result.\n",
        "\n",
        "El error que aparece es que al intentar hacer el `git merge origin/fix-ifs` desde la rama main, se genera un conflicto en el merge en el archivo `main.py`.  Esto, ya que Git no pudo realizar lo pedido porque los cambios tanto la rama `main` como `fix-ifs` modifican la misma parte del código.\n",
        "\n",
        "La parte del código que provoca el conflicto en el merge es en la función animales, en particular en los if que evalúan que animales se tienen.  Por un lado, en el main se tienen varios if independientes pero en fix-ifs esos bloques se cambiaron a `elif` y un `else` final.  \n",
        "\n",
        "La diferencia en cómo se estructuraron los condicionales hace que Git no pueda decidir cuál versión se debe mantener, por lo que se produce el conflicto en el merge y se necesita resolver de forma manual.\n",
        "\n"
      ]
    },
    {
      "attachments": {},
      "cell_type": "markdown",
      "metadata": {
        "cell_id": "09787ab449c543479e5cc54c2a3b6c19",
        "deepnote_cell_type": "markdown",
        "id": "GYfODCjeivkU"
      },
      "source": [
        "8. Cree una rama nueva y proponga una solución al problema anterior, adjuntando el código corregido y señalando las líneas modificadas. (0.25 pts)"
      ]
    },
    {
      "attachments": {},
      "cell_type": "markdown",
      "metadata": {
        "cell_id": "6d963fba3f2d4c17a4b281c7d3f4fb8b",
        "deepnote_cell_type": "markdown",
        "id": "8heBxDU9iziT"
      },
      "source": [
        "<code>Escriba sus respuestas acá:</code>\n",
        "\n",
        "Se creó la rama `arregloanimales` en el `main` para resolver el problema de la función `animales`.  El error se generaba porque los condicionales estaban escritos como varios `if` independientes entre sí y el `else` quedaba asociado solo al último `if`, generando un `ValueError` incluso para entradas válidas.  \n",
        "La solución es que se cambiaron los condicionales usando `elif` y un `else` final.  \n",
        "\n",
        "Código corregido en `animales.py`:\n",
        "\n",
        "def animales(input):\n",
        "    \n",
        "    '''\n",
        "    Como hace el animalito?\n",
        "    '''\n",
        "    \n",
        "    if input.lower() == 'gato':\n",
        "        print('miau')\n",
        "    elif input.lower() == 'perro':\n",
        "        print('guau')\n",
        "    elif input.lower() == 'fox':\n",
        "        print('https://www.youtube.com/watch?v=jofNR_WkoCE')\n",
        "    else:\n",
        "        raise ValueError('animal no reconocido :(')\n",
        ">>>>>>> origin/fix-ifs\n",
        "\n",
        "Dado que no podemos hacer push (por permisos), solo mencionaremos que los pasos siguientes, sería hacer git commit y git push de estas modificaciones en la rama. Luego, se procedería a hacer merge con git merge, se solucionarían los conflictos quedando el código ahora sí funcional y sin errores.\n"
      ]
    },
    {
      "attachments": {},
      "cell_type": "markdown",
      "metadata": {
        "cell_id": "8a47d4bf8b3045d68e4f29bb449c87f1",
        "deepnote_cell_type": "markdown",
        "id": "Av8ebB9jkALO"
      },
      "source": [
        "## Fin"
      ]
    },
    {
      "attachments": {},
      "cell_type": "markdown",
      "metadata": {
        "cell_id": "cec4b53942ed489f8f8b63d0e9d4f3e5",
        "deepnote_cell_type": "markdown",
        "id": "aQqZT9fSkBK8"
      },
      "source": [
        "Eso ha sido todo por ahora!! Esperamos que este laboratorio les haya gustado y servido para trabajar con `Git`. Recuerden los dias de plazo que tienen disponibles y que ante cualquier duda no duden en contactar al equipo docente.\n",
        "\n",
        "Nos vemos!!\n",
        "\n",
        "<p align=\"center\">\n",
        "  <img src=\"https://media.tenor.com/OYLdav9k9LkAAAAd/kitty-cat.gif\" width=\"350\">\n",
        "</p>\n"
      ]
    }
  ],
  "metadata": {
    "colab": {
      "provenance": []
    },
    "deepnote_execution_queue": [],
    "deepnote_notebook_id": "62cd20d52b9a4810ada15644630456dc",
    "language_info": {
      "name": "python"
    }
  },
  "nbformat": 4,
  "nbformat_minor": 0
}
